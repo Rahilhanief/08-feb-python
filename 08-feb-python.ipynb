{
 "cells": [
  {
   "cell_type": "code",
   "execution_count": 1,
   "id": "11acc7e4-c1dc-417b-ad0a-4fd01003b3ab",
   "metadata": {},
   "outputs": [
    {
     "data": {
      "text/plain": [
       "'\\nAbstraction “displays” only the relevant attributes of objects and “hides” the unnecessary details.\\nFor example, when we are driving a car, we are only concerned about driving the car like start/stop the car, \\naccelerate/ break, etc.\\n'"
      ]
     },
     "execution_count": 1,
     "metadata": {},
     "output_type": "execute_result"
    }
   ],
   "source": [
    "## Q No. 1 :\n",
    "\"\"\"\n",
    "Abstraction “displays” only the relevant attributes of objects and “hides” the unnecessary details.\n",
    "For example, when we are driving a car, we are only concerned about driving the car like start/stop the car, \n",
    "accelerate/ break, etc.\n",
    "\"\"\""
   ]
  },
  {
   "cell_type": "code",
   "execution_count": 2,
   "id": "d8dbc54b-54f7-498a-803e-be17db4539f2",
   "metadata": {},
   "outputs": [
    {
     "data": {
      "text/plain": [
       "'\\nAbstraction is a way of representing some specific data. \\nEncapsulation is a way of hiding the complexity of something and exposing only the parts you wish to expose. \\nFor example, if you have a class that has one or more private fields that you use to store the data, \\nthen you are in encapsulation.\\n'"
      ]
     },
     "execution_count": 2,
     "metadata": {},
     "output_type": "execute_result"
    }
   ],
   "source": [
    "## Q No. 2 :\n",
    "\"\"\"\n",
    "Abstraction is a way of representing some specific data. \n",
    "Encapsulation is a way of hiding the complexity of something and exposing only the parts you wish to expose. \n",
    "For example, if you have a class that has one or more private fields that you use to store the data, \n",
    "then you are in encapsulation.\n",
    "\"\"\""
   ]
  },
  {
   "cell_type": "code",
   "execution_count": 3,
   "id": "0a9a7458-2313-47bc-a394-44239a3d64d2",
   "metadata": {},
   "outputs": [
    {
     "data": {
      "text/plain": [
       "\"\\nThe 'abc' module in Python library provides the infrastructure for defining custom abstract base classes.\\n'abc' works by marking methods of the base class as abstract. This is done by @absttractmethod decorator.\\n\\nAbstract class cannot be instantiated in python. An Abstract method can be call by its subclasses.\\n\""
      ]
     },
     "execution_count": 3,
     "metadata": {},
     "output_type": "execute_result"
    }
   ],
   "source": [
    "## Q No. 3 :\n",
    "\"\"\"\n",
    "The 'abc' module in Python library provides the infrastructure for defining custom abstract base classes.\n",
    "'abc' works by marking methods of the base class as abstract. This is done by @absttractmethod decorator.\n",
    "\n",
    "Abstract class cannot be instantiated in python. An Abstract method can be call by its subclasses.\n",
    "\"\"\""
   ]
  },
  {
   "cell_type": "code",
   "execution_count": 5,
   "id": "68c9c165-0daf-4c26-8ef3-9fefe8ee4683",
   "metadata": {},
   "outputs": [
    {
     "data": {
      "text/plain": [
       "'\\nIn Python, abstraction can be achieved by having/using abstract classes and methods in our programs. \\nUnderstanding Abstract Methods and Classes: An abstract method is a method that is declared, \\nbut does not contain implementation.\\n'"
      ]
     },
     "execution_count": 5,
     "metadata": {},
     "output_type": "execute_result"
    }
   ],
   "source": [
    "## Q No. 4 :\n",
    "\"\"\"\n",
    "In Python, abstraction can be achieved by having/using abstract classes and methods in our programs. \n",
    "Understanding Abstract Methods and Classes: An abstract method is a method that is declared, \n",
    "but does not contain implementation.\n",
    "\"\"\""
   ]
  },
  {
   "cell_type": "code",
   "execution_count": 6,
   "id": "23d3c401-d3f3-4bc3-be5f-47e51b6907f2",
   "metadata": {},
   "outputs": [
    {
     "data": {
      "text/plain": [
       "'\\nAbstract classes are not complete, as they may have some methods that are not defined. \\nSo we cannot create an instance or object of an abstract class in Python.\\n'"
      ]
     },
     "execution_count": 6,
     "metadata": {},
     "output_type": "execute_result"
    }
   ],
   "source": [
    "## Q No.5 :\n",
    "\"\"\"\n",
    "Abstract classes are not complete, as they may have some methods that are not defined. \n",
    "So we cannot create an instance or object of an abstract class in Python.\n",
    "\"\"\""
   ]
  }
 ],
 "metadata": {
  "kernelspec": {
   "display_name": "Python 3 (ipykernel)",
   "language": "python",
   "name": "python3"
  },
  "language_info": {
   "codemirror_mode": {
    "name": "ipython",
    "version": 3
   },
   "file_extension": ".py",
   "mimetype": "text/x-python",
   "name": "python",
   "nbconvert_exporter": "python",
   "pygments_lexer": "ipython3",
   "version": "3.10.8"
  }
 },
 "nbformat": 4,
 "nbformat_minor": 5
}
